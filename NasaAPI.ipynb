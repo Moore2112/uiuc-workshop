{
 "cells": [
  {
   "cell_type": "markdown",
   "metadata": {},
   "source": [
    "# 1. Basic API Query\n",
    "\n",
    "https://api.nasa.gov\n",
    "\n",
    "NASA provides multiple public APIs for anyone to gather information they provide such as weather data, satellite images, rover photos, and more. For part 1 of this exercise, you will be querying the \"Astronomy Picutre of the Day (APOD)\" API to receive a URL.\n",
    "\n",
    "You will need to replace \"DEMO_KEY\" in the URL with the application key provided to you (__gu9C36JxCSsiGT2Qei2qCP5vhDCE6MJlZdZHvyPI__)\n",
    "\n",
    "The steps below are intended to guide you on the steps required to query and receive a response from this API.\n",
    "\n",
    "<hr />\n",
    "\n",
    "## Query Parameters\n",
    "\n",
    "<table> <thead> <tr> <th>Parameter</th> <th>Type</th> <th>Default</th> <th>Description</th> </tr></thead> <tbody> <tr> <td>date</td><td>YYYY-MM-DD</td><td><em>today</em></td><td>The date of the APOD image to retrieve</td></tr><!-- <tr> <td><del>concept_tags</del></td><td>bool</td><td>False</td><td>Return an ordered dictionary of concepts from the APOD explanation</td></tr>--> <tr> <td>hd</td><td>bool</td><td>False</td><td>Retrieve the URL for the high resolution image</td></tr><tr> <td>api_key</td><td>string</td><td>DEMO_KEY</td><td>api.nasa.gov key for expanded usage</td></tr></tbody></table>\n",
    "\n",
    "## Example Query\n",
    "\n",
    "\n",
    "https://api.nasa.gov/planetary/apod?api_key=DEMO_KEY\n",
    "\n",
    "\n",
    "<hr />\n",
    "\n",
    "<div class=\"alert alert-block alert-success\">\n",
    "<b>Goal:</b> Query the API and print out the JSON response\n",
    "</div>\n",
    "\n",
    "> ### Import Necessary Packages\n",
    "\n",
    "Import the \"requests\" package"
   ]
  },
  {
   "cell_type": "code",
   "execution_count": null,
   "metadata": {
    "collapsed": true
   },
   "outputs": [],
   "source": []
  },
  {
   "cell_type": "markdown",
   "metadata": {},
   "source": [
    "> ### Set API Information\n",
    "\n",
    "Set up the URL for the API"
   ]
  },
  {
   "cell_type": "code",
   "execution_count": null,
   "metadata": {
    "collapsed": true
   },
   "outputs": [],
   "source": []
  },
  {
   "cell_type": "markdown",
   "metadata": {},
   "source": [
    "> ### Query API and Receive Response"
   ]
  },
  {
   "cell_type": "code",
   "execution_count": null,
   "metadata": {
    "collapsed": true
   },
   "outputs": [],
   "source": []
  },
  {
   "cell_type": "markdown",
   "metadata": {},
   "source": [
    "> ### Print out Response"
   ]
  },
  {
   "cell_type": "code",
   "execution_count": null,
   "metadata": {
    "collapsed": true
   },
   "outputs": [],
   "source": []
  },
  {
   "cell_type": "markdown",
   "metadata": {},
   "source": [
    "# 2. Advanced API Query\n",
    "\n",
    "For part 2, you wil be querying the Mars Rover API to get a list of images.\n",
    "\n",
    "You will need to replace \"DEMO_KEY\" in the URL with the application key provided to you (__gu9C36JxCSsiGT2Qei2qCP5vhDCE6MJlZdZHvyPI__)\n",
    "\n",
    "<hr />\n",
    "\n",
    "## Rover Cameras\n",
    "\n",
    "<table> <thead> <tr> <th>Abbreviation</th> <th>Camera</th> <th class=\"markerBox\">Curiousity</th> <th class=\"markerBox\">Opportunity</th> <th class=\"markerBox\">Spirit</th> </tr></thead> <tbody> <tr> <td>FHAZ</td><td>Front Hazard Avoidance Camera</td><td class=\"markerBox\">✔</td><td class=\"markerBox\">✔</td><td class=\"markerBox\">✔</td></tr><tr> <td>RHAZ</td><td>Rear Hazard Avoidance Camera</td><td class=\"markerBox\">✔</td><td class=\"markerBox\">✔</td><td class=\"markerBox\">✔</td></tr><tr> <td>MAST</td><td>Mast Camera</td><td class=\"markerBox\">✔</td><td class=\"markerBox\"></td><td class=\"markerBox\"></td></tr><tr> <td>CHEMCAM</td><td>Chemistry and Camera Complex</td><td class=\"markerBox\">✔</td><td class=\"markerBox\"></td><td class=\"markerBox\"></td></tr><tr> <td>MAHLI</td><td>Mars Hand Lens Imager</td><td class=\"markerBox\">✔</td><td class=\"markerBox\"></td><td class=\"markerBox\"></td></tr><tr> <td>MARDI</td><td>Mars Descent Imager</td><td class=\"markerBox\">✔</td><td class=\"markerBox\"></td><td class=\"markerBox\"></td></tr><tr> <td>NAVCAM</td><td>Navigation Camera</td><td class=\"markerBox\">✔</td><td class=\"markerBox\">✔</td><td class=\"markerBox\">✔</td></tr><tr> <td>PANCAM</td><td>Panoramic Camera</td><td class=\"markerBox\"></td><td class=\"markerBox\">✔</td><td class=\"markerBox\">✔</td></tr><tr> <td>MINITES</td><td>Miniature Thermal Emission Spectrometer (Mini-TES)</td><td class=\"markerBox\"></td><td class=\"markerBox\">✔</td><td class=\"markerBox\">✔</td></tr></tbody> </table>\n",
    "\n",
    "## Querying by Martian Sol\n",
    "\n",
    "<table> <thead> <tr> <th>Parameter</th> <th>Type</th> <th>Default</th> <th>Description</th> </tr></thead> <tbody> <tr> <td>sol</td><td>int</td><td>none</td><td>sol (ranges from 0 to max found in endpoint)</td></tr><tr> <td>camera</td><td>string</td><td>all</td><td>see table above for abbreviations</td></tr><tr> <td>page</td><td>int</td><td>1</td><td>25 items per page returned</td></tr><tr> <td>api_key</td><td>string</td><td>DEMO_KEY</td><td>api.nasa.gov key for expanded usage</td></tr></tbody> </table>\n",
    "\n",
    "## Example Queries\n",
    "\n",
    "https://api.nasa.gov/mars-photos/api/v1/rovers/curiosity/photos?sol=1000&api_key=DEMO_KEY\n",
    "\n",
    "https://api.nasa.gov/mars-photos/api/v1/rovers/curiosity/photos?sol=1000&camera=fhaz&api_key=DEMO_KEY\n",
    "\n",
    "https://api.nasa.gov/mars-photos/api/v1/rovers/curiosity/photos?sol=1000&page=2&api_key=DEMO_KEY\n",
    "\n",
    "## Querying by Earth Date\n",
    "\n",
    "<table> <thead> <tr> <th>Parameter</th> <th>Type</th> <th>Default</th> <th>Description</th> </tr></thead> <tbody> <tr> <td>earth_date</td><td>YYYY-MM-DD</td><td>none</td><td>sol (ranges from 0 to max found in endpoint)</td></tr><tr> <td>camera</td><td>string</td><td>all</td><td>see table above for abbreviations</td></tr><tr> <td>page</td><td>int</td><td>1</td><td>25 items per page returned</td></tr><tr> <td>api_key</td><td>string</td><td>DEMO_KEY</td><td>api.nasa.gov key for expanded usage</td></tr></tbody> </table>\n",
    "\n",
    "## Example Query\n",
    "\n",
    "https://api.nasa.gov/mars-photos/api/v1/rovers/curiosity/photos?earth_date=2015-6-3&api_key=DEMO_KEY\n",
    "\n",
    "<hr />\n",
    "\n",
    "\n",
    "<div class=\"alert alert-block alert-success\">\n",
    "<b>Goal:</b> Query the API to return a list of all photos from Sol 1500\n",
    "</div>\n",
    "\n",
    "\n",
    "> ### Set API Information\n",
    "\n",
    "For this excercise, you will query the API to return a list of photos from the Curiosity rover from Sol 1500 (a Sol is a day on Mars). You can specify which Sol you want to query in the URL for the API. It's currently set at Sol 1000.\n"
   ]
  },
  {
   "cell_type": "code",
   "execution_count": null,
   "metadata": {
    "collapsed": true
   },
   "outputs": [],
   "source": []
  },
  {
   "cell_type": "markdown",
   "metadata": {},
   "source": [
    "> ### Query API and Receive Response"
   ]
  },
  {
   "cell_type": "code",
   "execution_count": null,
   "metadata": {
    "collapsed": true
   },
   "outputs": [],
   "source": []
  },
  {
   "cell_type": "markdown",
   "metadata": {},
   "source": [
    "> ### List all Image URLs from Response\n",
    "\n",
    "Use a loop to list all img_src URLs in the JSON response"
   ]
  },
  {
   "cell_type": "code",
   "execution_count": null,
   "metadata": {
    "collapsed": true
   },
   "outputs": [],
   "source": []
  },
  {
   "cell_type": "markdown",
   "metadata": {},
   "source": [
    "# 3. Challenge\n",
    "\n",
    "For the last part, you will query the same API, but display the first image in this notebook rather than just the URL.\n",
    "\n",
    "API URL: \"https://api.nasa.gov/mars-photos/api/v1/rovers/curiosity/photos?sol=1000&api_key=DEMO_KEY\"\n",
    "\n",
    "You will need to replace \"DEMO_KEY\" in the URL with the application key provided to you (__gu9C36JxCSsiGT2Qei2qCP5vhDCE6MJlZdZHvyPI__)\n",
    "\n",
    "\n",
    "<div class=\"alert alert-block alert-success\">\n",
    "<b>Goal:</b> Query the API to return a list of all photos from 9/24/2019, then display the first photo in this notebook using the IPython library\n",
    "</div>\n",
    "\n",
    "\n",
    "> ### Import Additional Packages\n",
    "\n",
    "Import the IPython package"
   ]
  },
  {
   "cell_type": "code",
   "execution_count": null,
   "metadata": {
    "collapsed": true
   },
   "outputs": [],
   "source": []
  },
  {
   "cell_type": "markdown",
   "metadata": {},
   "source": [
    "> ### Set API Information"
   ]
  },
  {
   "cell_type": "code",
   "execution_count": null,
   "metadata": {
    "collapsed": true
   },
   "outputs": [],
   "source": []
  },
  {
   "cell_type": "markdown",
   "metadata": {},
   "source": [
    "> ### Query API and Receive Response"
   ]
  },
  {
   "cell_type": "code",
   "execution_count": null,
   "metadata": {
    "collapsed": true
   },
   "outputs": [],
   "source": []
  },
  {
   "cell_type": "markdown",
   "metadata": {},
   "source": [
    "> ### Display the first image in the cell below\n",
    "\n",
    "Display the first image in the json response in this notebook using the IPython library.\n",
    "\n",
    "<div class=\"alert alert-block alert-info\">\n",
    "<b>Tip:</b> Use the display.Image() function\n",
    "</div>\n"
   ]
  },
  {
   "cell_type": "code",
   "execution_count": null,
   "metadata": {
    "collapsed": true
   },
   "outputs": [],
   "source": []
  }
 ],
 "metadata": {
  "kernelspec": {
   "display_name": "Python 3",
   "language": "python",
   "name": "python3"
  },
  "language_info": {
   "codemirror_mode": {
    "name": "ipython",
    "version": 3
   },
   "file_extension": ".py",
   "mimetype": "text/x-python",
   "name": "python",
   "nbconvert_exporter": "python",
   "pygments_lexer": "ipython3",
   "version": "3.5.3"
  }
 },
 "nbformat": 4,
 "nbformat_minor": 2
}
