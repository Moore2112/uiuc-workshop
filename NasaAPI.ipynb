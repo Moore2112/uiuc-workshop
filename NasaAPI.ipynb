{
 "cells": [
  {
   "cell_type": "markdown",
   "metadata": {},
   "source": [
    "# 1. Basic API Query\n",
    "\n",
    "NASA provides multiple public APIs for anyone to gather information they provide such as weather data, satellite images, rover photos, and more. For part 1 of this exercise, you will be querying the \"Astronomy Picutre of the Day (APOD)\" API to receive a URL.\n",
    "\n",
    "API URL: https://api.nasa.gov/planetary/apod?api_key=DEMO_KEY\n",
    "\n",
    "You will need to replace \"DEMO_KEY\" in the URL with the application key provided to you (__gu9C36JxCSsiGT2Qei2qCP5vhDCE6MJlZdZHvyPI__)\n",
    "\n",
    "The steps below are intended to guide you on the steps required to query and receive a response from this API.\n",
    "\n",
    "> ### Import Necessary Packages\n",
    "\n",
    "Import the \"requests\" package"
   ]
  },
  {
   "cell_type": "code",
   "execution_count": null,
   "metadata": {
    "collapsed": true
   },
   "outputs": [],
   "source": []
  },
  {
   "cell_type": "markdown",
   "metadata": {},
   "source": [
    "> ### Set API Information\n",
    "\n",
    "Set up the URL for the API"
   ]
  },
  {
   "cell_type": "code",
   "execution_count": null,
   "metadata": {
    "collapsed": true
   },
   "outputs": [],
   "source": []
  },
  {
   "cell_type": "markdown",
   "metadata": {},
   "source": [
    "> ### Query API and Receive Response"
   ]
  },
  {
   "cell_type": "code",
   "execution_count": null,
   "metadata": {
    "collapsed": true
   },
   "outputs": [],
   "source": []
  },
  {
   "cell_type": "markdown",
   "metadata": {},
   "source": [
    "> ### Print out Response"
   ]
  },
  {
   "cell_type": "code",
   "execution_count": null,
   "metadata": {
    "collapsed": true
   },
   "outputs": [],
   "source": []
  },
  {
   "cell_type": "markdown",
   "metadata": {},
   "source": [
    "# 2. Advanced API Query\n",
    "\n",
    "For part 2, you wil be querying the Mars Rover API to get a list of images.\n",
    "\n",
    "API URL: \"https://api.nasa.gov/mars-photos/api/v1/rovers/curiosity/photos?sol=1000&api_key=DEMO_KEY\"\n",
    "\n",
    "You will need to replace \"DEMO_KEY\" in the URL with the application key provided to you (__gu9C36JxCSsiGT2Qei2qCP5vhDCE6MJlZdZHvyPI__)\n",
    "\n",
    "\n",
    "#### Challenge:\n",
    "\n",
    "__Query the API to return a list of all photos from Sol 1500__\n",
    "\n",
    "\n",
    "> ### Set API Information\n",
    "\n",
    "For this excercise, you will query the API to return a list of photos from the Curiosity rover from Sol 1500 (a Sol is a day on Mars). You can specify which Sol you want to query in the URL for the API. It's currently set at Sol 1000.\n"
   ]
  },
  {
   "cell_type": "code",
   "execution_count": null,
   "metadata": {
    "collapsed": true
   },
   "outputs": [],
   "source": []
  },
  {
   "cell_type": "markdown",
   "metadata": {},
   "source": [
    "> ### Query API and Receive Response"
   ]
  },
  {
   "cell_type": "code",
   "execution_count": null,
   "metadata": {},
   "outputs": [],
   "source": []
  },
  {
   "cell_type": "markdown",
   "metadata": {},
   "source": [
    "> ### List all Image URLs from Response\n",
    "\n",
    "Use a loop to list all img_src URLs in the JSON response"
   ]
  },
  {
   "cell_type": "markdown",
   "metadata": {},
   "source": [
    "# 3. Challenge\n",
    "\n",
    "For the last part, you will query the same API, but display the first image in this notebook rather than just the URL.\n",
    "\n",
    "API URL: \"https://api.nasa.gov/mars-photos/api/v1/rovers/curiosity/photos?sol=1000&api_key=DEMO_KEY\"\n",
    "\n",
    "You will need to replace \"DEMO_KEY\" in the URL with the application key provided to you (__gu9C36JxCSsiGT2Qei2qCP5vhDCE6MJlZdZHvyPI__)\n",
    "\n",
    "#### Challenge:\n",
    "\n",
    "__Query the API to return a list of all photos from Sol 1500, then display the first photo in this notebook using the IPython library__\n",
    "\n",
    "\n",
    "> ### Import Additional Packages\n",
    "\n",
    "Import the IPython package"
   ]
  },
  {
   "cell_type": "code",
   "execution_count": null,
   "metadata": {
    "collapsed": true
   },
   "outputs": [],
   "source": []
  },
  {
   "cell_type": "markdown",
   "metadata": {},
   "source": [
    "> ### Set API Information"
   ]
  },
  {
   "cell_type": "code",
   "execution_count": null,
   "metadata": {
    "collapsed": true
   },
   "outputs": [],
   "source": []
  },
  {
   "cell_type": "markdown",
   "metadata": {},
   "source": [
    "> ### Query API and Receive Response"
   ]
  },
  {
   "cell_type": "code",
   "execution_count": null,
   "metadata": {
    "collapsed": true
   },
   "outputs": [],
   "source": []
  },
  {
   "cell_type": "markdown",
   "metadata": {},
   "source": [
    "> ### Display the first image in the cell below\n",
    "\n",
    "Display the first image in the json response in this notebook using the IPython library.\n",
    "\n",
    "__Hint:__ Use the display.Image() function"
   ]
  },
  {
   "cell_type": "code",
   "execution_count": null,
   "metadata": {
    "collapsed": true
   },
   "outputs": [],
   "source": []
  }
 ],
 "metadata": {
  "kernelspec": {
   "display_name": "Python 3",
   "language": "python",
   "name": "python3"
  },
  "language_info": {
   "codemirror_mode": {
    "name": "ipython",
    "version": 3
   },
   "file_extension": ".py",
   "mimetype": "text/x-python",
   "name": "python",
   "nbconvert_exporter": "python",
   "pygments_lexer": "ipython3",
   "version": "3.5.3"
  }
 },
 "nbformat": 4,
 "nbformat_minor": 2
}
